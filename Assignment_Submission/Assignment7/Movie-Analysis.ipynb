{
 "cells": [
  {
   "cell_type": "markdown",
   "id": "770aabc1",
   "metadata": {},
   "source": [
    "### Define Spark Session"
   ]
  },
  {
   "cell_type": "code",
   "execution_count": 1,
   "id": "1721b1c4",
   "metadata": {},
   "outputs": [
    {
     "data": {
      "text/plain": [
       "Intitializing Scala interpreter ..."
      ]
     },
     "metadata": {},
     "output_type": "display_data"
    },
    {
     "data": {
      "text/plain": [
       "Spark Web UI available at http://10.0.0.18:4040\n",
       "SparkContext available as 'sc' (version = 3.3.2, master = local[*], app id = local-1680021394693)\n",
       "SparkSession available as 'spark'\n"
      ]
     },
     "metadata": {},
     "output_type": "display_data"
    },
    {
     "name": "stdout",
     "output_type": "stream",
     "text": [
      "23/03/28 12:36:37 WARN SparkSession: Using an existing Spark session; only runtime SQL configurations will take effect.\n"
     ]
    },
    {
     "data": {
      "text/plain": [
       "import org.apache.spark.sql.SparkSession\n",
       "spark: org.apache.spark.sql.SparkSession = org.apache.spark.sql.SparkSession@5f30e7a1\n"
      ]
     },
     "execution_count": 1,
     "metadata": {},
     "output_type": "execute_result"
    }
   ],
   "source": [
    "import org.apache.spark.sql.SparkSession\n",
    "\n",
    "val spark = SparkSession\n",
    "  .builder()\n",
    "  .appName(\"Assignment7\")\n",
    "  .getOrCreate()"
   ]
  },
  {
   "cell_type": "markdown",
   "id": "841d1bf3",
   "metadata": {},
   "source": [
    "### Define Spark Context"
   ]
  },
  {
   "cell_type": "code",
   "execution_count": 2,
   "id": "671f484a",
   "metadata": {},
   "outputs": [
    {
     "data": {
      "text/plain": [
       "sc: org.apache.spark.SparkContext = org.apache.spark.SparkContext@46e24902\n"
      ]
     },
     "execution_count": 2,
     "metadata": {},
     "output_type": "execute_result"
    }
   ],
   "source": [
    "val sc = spark.sparkContext"
   ]
  },
  {
   "cell_type": "markdown",
   "id": "d0c2633d",
   "metadata": {},
   "source": [
    "### Ingest Data, Read from CSV\n",
    "CSV file for movie downloaded from Kaggle https://www.kaggle.com/datasets/db55ac3dfd0098a0cf96dd542807f9253a16587ff233e06baef372bccfd09942"
   ]
  },
  {
   "cell_type": "code",
   "execution_count": 6,
   "id": "0fe102ca",
   "metadata": {},
   "outputs": [
    {
     "name": "stdout",
     "output_type": "stream",
     "text": [
      "+------+-----------------+------------------------------------+----------+------------+------------+----------+--------------------+--------------------+--------------------+-----------------+--------------------+\n",
      "|    id|original_language|                      original_title|popularity|release_date|vote_average|vote_count|               genre|            overview|             revenue|          runtime|             tagline|\n",
      "+------+-----------------+------------------------------------+----------+------------+------------+----------+--------------------+--------------------+--------------------+-----------------+--------------------+\n",
      "|580489|               en|                Venom: Let There ...|  5401.308|     9/30/21|         6.8|      1736|['Science Fiction...|After finding a h...|           424000000|               97|                null|\n",
      "|524434|               en|                            Eternals|  3365.535|     11/3/21|         7.1|       622|['Action', 'Adven...|The Eternals are ...|           165000000|              157| In the beginning...|\n",
      "|438631|               en|                                Dune|  2911.423|     9/15/21|           8|      3632|['Action', 'Adven...|Paul Atreides, a ...|           331116356|              155|Beyond fear, dest...|\n",
      "|796499|               en|                     Army of Thieves|  2552.437|    10/27/21|         6.9|       555|['Action', 'Crime...|A mysterious woma...|                   0|              127|Before Vegas, one...|\n",
      "|550988|               en|                            Free Guy|   1850.47|     8/11/21|         7.8|      3493|['Comedy', 'Actio...|A bank teller cal...|           331096766|              115|Life's too short ...|\n",
      "|574060|               en|                 Gunpowder Milkshake|  1453.423|     7/14/21|         6.5|       347|['Action', 'Thril...|In her turbulent ...|              344931|              114|Revenge is best s...|\n",
      "|335983|               en|                               Venom|  1212.352|     9/28/18|         6.8|     12126|['Science Fiction...|Investigative jou...|           855013954|              112|The world has eno...|\n",
      "|610253|               en|                     Halloween Kills|  1023.024|    10/14/21|           7|      1134|['Horror', 'Thril...|Minutes after Lau...|           118852075|              105|  Evil dies tonight.|\n",
      "|871964|               pl|                W lesie dziś nie ...|  1089.852|    10/27/21|         4.1|        72|['Horror', 'Thril...|When something ho...|                   0|               96|                null|\n",
      "|768449|               en|                     American Badger|  1148.822|      3/5/21|         6.3|        14|['Action', 'Thril...|A seemingly cold-...|                   0|               88|Justice Before Re...|\n",
      "|639721|               en|                 The Addams Family 2|  1031.821|     10/1/21|         7.4|       562|['Animation', 'Co...|The Addams get ta...|            93258233|               93|Unhappy to see yo...|\n",
      "|843241|               ja|劇場版 七つの大罪 光に呪われし者たち|  1108.815|      7/2/21|         8.4|       210|['Animation', 'Ac...|\"With the help of...| the Seven Deadly...| the \"\"Holy War\"\"| in which four races|\n",
      "|566525|               en|                Shang-Chi and the...|   1327.18|      9/1/21|         7.7|      1414|['Action', 'Adven...|Shang-Chi must co...|           427480601|              132|You can't outrun ...|\n",
      "|568620|               en|                Snake Eyes: G.I. ...|  1052.222|     7/22/21|         6.9|       786|['Action', 'Adven...|After saving the ...|            36964325|              121|Every warrior has...|\n",
      "|630004|               en|                           The Vault|   1046.86|      3/3/21|         7.1|       392|['Crime', 'Action...|When an engineer ...|                   0|              118|No job is impossi...|\n",
      "|672582|               en|                      The Deep House|   848.536|     6/30/21|         5.5|       112|          ['Horror']|While diving in a...|                   0|               85|Breathe while you...|\n",
      "|760747|               no|                        I onde dager|   863.019|     7/30/21|         6.8|       118|['Action', 'Comed...|A dysfunctional c...|                   0|              113|Til Death Do Us Part|\n",
      "|675319|               en|                            Zone 414|   797.785|      9/3/21|         5.8|        86|['Science Fiction...|In the near futur...|                   0|               98|What hides in the...|\n",
      "|635302|               ja|        劇場版「鬼滅の刃」無限列車編|   897.913|    10/16/20|         8.4|      1833|['Animation', 'Ac...|Tanjirō Kamado, j...|           503063688|              117|With your blade, ...|\n",
      "|645788|               en|                         The Protégé|   832.048|     8/19/21|         6.8|       330|['Action', 'Crime...|Rescued as a chil...|             8115215|              109|Wherever you run,...|\n",
      "+------+-----------------+------------------------------------+----------+------------+------------+----------+--------------------+--------------------+--------------------+-----------------+--------------------+\n",
      "only showing top 20 rows\n",
      "\n"
     ]
    },
    {
     "data": {
      "text/plain": [
       "df: org.apache.spark.sql.DataFrame = [id: string, original_language: string ... 10 more fields]\n"
      ]
     },
     "execution_count": 6,
     "metadata": {},
     "output_type": "execute_result"
    }
   ],
   "source": [
    "val df = spark.read.option(\"header\", \"true\").csv(\"Top_10000_Movies.csv\")\n",
    "df.show()"
   ]
  },
  {
   "cell_type": "markdown",
   "id": "309c65d7",
   "metadata": {},
   "source": [
    "### Calculate Mean for vote_average column that signifies rating\n",
    "Used select method to use avg function available in Spark function"
   ]
  },
  {
   "cell_type": "code",
   "execution_count": 10,
   "id": "fea493ad",
   "metadata": {},
   "outputs": [
    {
     "name": "stdout",
     "output_type": "stream",
     "text": [
      "+-----------------+\n",
      "|             Mean|\n",
      "+-----------------+\n",
      "|6.298749999999994|\n",
      "+-----------------+\n",
      "\n"
     ]
    }
   ],
   "source": [
    "df.select(avg($\"vote_average\").alias(\"Mean\")).show()"
   ]
  },
  {
   "cell_type": "markdown",
   "id": "b32b938e",
   "metadata": {},
   "source": [
    "### Calculate Standard Deviation for vote_average column that signifies rating\n",
    "Used select method to use stddev function available in Spark function"
   ]
  },
  {
   "cell_type": "code",
   "execution_count": 11,
   "id": "43accf89",
   "metadata": {},
   "outputs": [
    {
     "name": "stdout",
     "output_type": "stream",
     "text": [
      "+------------------+\n",
      "|Standard Deviation|\n",
      "+------------------+\n",
      "|1.4342597908380366|\n",
      "+------------------+\n",
      "\n"
     ]
    }
   ],
   "source": [
    "df.select(stddev($\"vote_average\").alias(\"Standard Deviation\")).show()"
   ]
  },
  {
   "cell_type": "markdown",
   "id": "6420e83d",
   "metadata": {},
   "source": [
    "### Test cases to check for Mean and Standard Deviation functions\n",
    "1. Check if avg and stddev functions work for Empty Dataframe\n",
    "2. Check if avg and stddev functions work for Negative values in Dataframe\n",
    "3. Check if avg and stddev functions work for Multiple Rows in Dataframe\n",
    "4. Check if avg and stddev functions work for Decimal Values in Dataframe"
   ]
  },
  {
   "cell_type": "code",
   "execution_count": 31,
   "id": "664b5fee",
   "metadata": {},
   "outputs": [
    {
     "data": {
      "text/plain": [
       "df_empty: org.apache.spark.sql.DataFrame = [id: int, value: double]\n",
       "mean_empty: Any = null\n",
       "stdev_empty: Any = null\n",
       "df_negative: org.apache.spark.sql.DataFrame = [id: int, value: double]\n",
       "mean_negative: Double = 0.0\n",
       "stdev_negative: Double = 2.160246899469287\n",
       "df_multiple: org.apache.spark.sql.DataFrame = [id: int, value: double]\n",
       "mean_multiple: Double = 6.0\n",
       "stdev_multiple: Double = 3.1622776601683795\n",
       "df_decimal: org.apache.spark.sql.DataFrame = [id: int, value: double]\n",
       "mean_decimal: Double = 3.4799999999999995\n",
       "stdev_decimal: Double = 1.646815108019112\n"
      ]
     },
     "execution_count": 31,
     "metadata": {},
     "output_type": "execute_result"
    }
   ],
   "source": [
    "// Test case for an empty DataFrame\n",
    "val df_empty = Seq.empty[(Int, Double)].toDF(\"id\", \"value\")\n",
    "val mean_empty = df_empty.select(avg(\"value\")).first().get(0)\n",
    "val stdev_empty = df_empty.select(stddev(\"value\")).first().get(0)\n",
    "assert(mean_empty == null && stdev_empty == null)\n",
    "\n",
    "// Test case for a DataFrame with negative numbers\n",
    "val df_negative = Seq((1, -3.0), (2, -2.0), (3, -1.0), (4, 0.0), (5, 1.0), (6, 2.0), (7, 3.0)).toDF(\"id\", \"value\")\n",
    "val mean_negative = df_negative.select(avg(\"value\")).first().getAs[Double](0)\n",
    "val stdev_negative = df_negative.select(stddev(\"value\")).first().getAs[Double](0)\n",
    "assert(mean_negative == 0.0 && stdev_negative == 2.160246899469287)\n",
    "\n",
    "// Test case for a DataFrame with multiple rows\n",
    "val df_multiple = Seq((1, 2.0), (2, 4.0), (3, 6.0), (4, 8.0), (5, 10.0)).toDF(\"id\", \"value\")\n",
    "val mean_multiple = df_multiple.select(avg(\"value\")).first().getAs[Double](0)\n",
    "val stdev_multiple = df_multiple.select(stddev(\"value\")).first().getAs[Double](0)\n",
    "assert(mean_multiple == 6.0 && stdev_multiple == 3.1622776601683795)\n",
    "\n",
    "// Test case for a DataFrame with decimal numbers\n",
    "val df_decimal = Seq((1, 1.2), (2, 2.5), (3, 3.7), (4, 4.9), (5, 5.1)).toDF(\"id\", \"value\")\n",
    "val mean_decimal = df_decimal.select(avg(\"value\")).first().getAs[Double](0)\n",
    "val stdev_decimal = df_decimal.select(stddev(\"value\")).first().getAs[Double](0)\n",
    "assert(mean_decimal == 3.4799999999999995 && stdev_decimal == 1.646815108019112)"
   ]
  },
  {
   "cell_type": "code",
   "execution_count": null,
   "id": "06b66b6b",
   "metadata": {},
   "outputs": [],
   "source": []
  }
 ],
 "metadata": {
  "kernelspec": {
   "display_name": "spylon-kernel",
   "language": "scala",
   "name": "spylon-kernel"
  },
  "language_info": {
   "codemirror_mode": "text/x-scala",
   "file_extension": ".scala",
   "help_links": [
    {
     "text": "MetaKernel Magics",
     "url": "https://metakernel.readthedocs.io/en/latest/source/README.html"
    }
   ],
   "mimetype": "text/x-scala",
   "name": "scala",
   "pygments_lexer": "scala",
   "version": "0.4.1"
  }
 },
 "nbformat": 4,
 "nbformat_minor": 5
}
